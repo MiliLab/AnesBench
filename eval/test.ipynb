{
 "cells": [
  {
   "cell_type": "code",
   "execution_count": 8,
   "metadata": {},
   "outputs": [
    {
     "name": "stdout",
     "output_type": "stream",
     "text": [
      "${RESULT_SAVE_PATH}\n",
      "RESULT_SAVE_PATH\n",
      "${MODEL_PATH}\n",
      "MODEL_PATH\n",
      "{'llm': {'api_key': 'sk-', 'base_url': 'http://localhost:8001', 'path': '${RESULT_SAVE_PATH}', 'system_support': True, 'model_path': '${MODEL_PATH}', 'generation': {'temperature': 0, 'max_new_tokens': 2048}}, 'max_workers': 16}\n"
     ]
    }
   ],
   "source": [
    "import os\n",
    "import yaml\n",
    "\n",
    "def env_constructor(loader, node):\n",
    "    value = loader.construct_scalar(node)\n",
    "    var_name = value.strip('${} ')\n",
    "    return os.getenv(var_name, value) \n",
    "\n",
    "yaml.SafeLoader.add_constructor('!env', env_constructor)\n",
    "\n",
    "with open('config.yaml', 'r') as f:\n",
    "    config = yaml.safe_load(f)\n",
    "\n",
    "print(config)"
   ]
  }
 ],
 "metadata": {
  "kernelspec": {
   "display_name": "anesbench_infer_1",
   "language": "python",
   "name": "python3"
  },
  "language_info": {
   "codemirror_mode": {
    "name": "ipython",
    "version": 3
   },
   "file_extension": ".py",
   "mimetype": "text/x-python",
   "name": "python",
   "nbconvert_exporter": "python",
   "pygments_lexer": "ipython3",
   "version": "3.10.17"
  }
 },
 "nbformat": 4,
 "nbformat_minor": 2
}
